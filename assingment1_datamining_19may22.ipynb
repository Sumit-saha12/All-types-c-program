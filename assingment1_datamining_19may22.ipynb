{
  "nbformat": 4,
  "nbformat_minor": 0,
  "metadata": {
    "colab": {
      "name": "assingment1_datamining_19may22.ipynb",
      "provenance": [],
      "collapsed_sections": [],
      "authorship_tag": "ABX9TyOfPoqRCMKruRXOad5JzdCd"
    },
    "kernelspec": {
      "name": "python3",
      "display_name": "Python 3"
    },
    "language_info": {
      "name": "python"
    }
  },
  "cells": [
    {
      "cell_type": "code",
      "execution_count": null,
      "metadata": {
        "colab": {
          "base_uri": "https://localhost:8080/"
        },
        "id": "F-rTat2kFJ-h",
        "outputId": "bf6db4bb-b1b4-4f1b-bdbb-da182a4ece42"
      },
      "outputs": [
        {
          "output_type": "stream",
          "name": "stdout",
          "text": [
            "hello world\n"
          ]
        }
      ],
      "source": [
        "#Print hello world\n",
        "\n",
        "print('hello world')"
      ]
    },
    {
      "cell_type": "code",
      "source": [
        "#Addition of two numbers\n",
        "\n",
        "first_number=float(input('Enter first number: '))\n",
        "second_number=float(input('Enter second number: '))\n",
        "sum_of_two_number=first_number+second_number\n",
        "\n",
        "print('Sum of two number is:',sum_of_two_number)"
      ],
      "metadata": {
        "colab": {
          "base_uri": "https://localhost:8080/"
        },
        "id": "rvv80A_5FjsI",
        "outputId": "7bf0b6fa-35fa-4206-b99c-02a1144c4a9f"
      },
      "execution_count": null,
      "outputs": [
        {
          "output_type": "stream",
          "name": "stdout",
          "text": [
            "Enter first number: 5\n",
            "Enter second number: 10\n",
            "Sum of two number is: 15.0\n"
          ]
        }
      ]
    },
    {
      "cell_type": "code",
      "source": [
        "#Swapping of two number\n",
        "\n",
        "first_number=float(input('Enter first number: '))\n",
        "second_number=float(input('Enter second number: '))\n",
        "\n",
        "temp=first_number\n",
        "first_number=second_number\n",
        "second_number=temp\n",
        "\n",
        "print('After swapping the first number is: ',first_number)\n",
        "print('After swapping the second number is: ',second_number)\n",
        "\n",
        "\n"
      ],
      "metadata": {
        "colab": {
          "base_uri": "https://localhost:8080/"
        },
        "id": "AT1-ZZ65GOYG",
        "outputId": "02f24ccd-2796-433d-a22b-559d700c22bc"
      },
      "execution_count": null,
      "outputs": [
        {
          "output_type": "stream",
          "name": "stdout",
          "text": [
            "Enter first number: 5\n",
            "Enter second number: 10\n",
            "After swapping the first number is:  10.0\n",
            "After swapping the second number is:  5.0\n"
          ]
        }
      ]
    },
    {
      "cell_type": "code",
      "source": [
        "#Swapping of two number without third variable\n",
        "\n",
        "first_number=float(input('Enter first number: '))\n",
        "second_number=float(input('Enter second number: '))\n",
        "\n",
        "first_number, second_number=second_number, first_number\n",
        "\n",
        "print('After swapping the first number is: ',first_number)\n",
        "print('After swapping the second number is: ',second_number)"
      ],
      "metadata": {
        "colab": {
          "base_uri": "https://localhost:8080/"
        },
        "id": "D0udOg9eKf7v",
        "outputId": "f5836f85-8bce-4bfd-cf36-c1a45a93f47a"
      },
      "execution_count": null,
      "outputs": [
        {
          "output_type": "stream",
          "name": "stdout",
          "text": [
            "Enter first number: 5\n",
            "Enter second number: 10\n",
            "After swapping the first number is:  10.0\n",
            "After swapping the second number is:  5.0\n"
          ]
        }
      ]
    },
    {
      "cell_type": "code",
      "source": [
        "#Take a number wheather it is greater than 100 or not\n",
        "\n",
        "number=float(input('Enter the number: '))\n",
        "\n",
        "if(number>100):\n",
        "  print('This number',number,'is greater than 100')\n",
        "else:\n",
        "  print('This number',number,'is not greater than 100')"
      ],
      "metadata": {
        "colab": {
          "base_uri": "https://localhost:8080/"
        },
        "id": "zTDim2VSK8Y8",
        "outputId": "b34b3e45-2520-400d-9965-d51312403389"
      },
      "execution_count": null,
      "outputs": [
        {
          "output_type": "stream",
          "name": "stdout",
          "text": [
            "Enter the number: 200\n",
            "This number 200.0 is greater than 100\n"
          ]
        }
      ]
    }
  ]
}